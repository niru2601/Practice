{
 "cells": [
  {
   "cell_type": "code",
   "execution_count": 4,
   "metadata": {},
   "outputs": [
    {
     "name": "stdout",
     "output_type": "stream",
     "text": [
      "enter number : 1634\n",
      "1634\n"
     ]
    }
   ],
   "source": [
    "def armstrong(num):\n",
    "    order = len(str(num))\n",
    "\n",
    "    sum = 0\n",
    "\n",
    "    temp = num\n",
    "    while temp > 0:\n",
    "        digit = temp % 10\n",
    "        sum += digit ** order\n",
    "        temp //= 10\n",
    "\n",
    "    if num == sum:\n",
    "        print(num)\n",
    "           \n",
    "input1 = int(input(\"enter number : \"))\n",
    "armstrong(input1)"
   ]
  },
  {
   "cell_type": "code",
   "execution_count": 11,
   "metadata": {},
   "outputs": [
    {
     "name": "stdout",
     "output_type": "stream",
     "text": [
      "3\n",
      "5\n",
      "7\n",
      "11\n",
      "13\n",
      "17\n",
      "19\n",
      "23\n",
      "29\n",
      "31\n",
      "37\n",
      "41\n",
      "43\n",
      "47\n",
      "53\n",
      "59\n",
      "61\n",
      "67\n",
      "71\n",
      "73\n",
      "79\n",
      "83\n",
      "89\n",
      "97\n"
     ]
    }
   ],
   "source": [
    "for i in range(3,100):\n",
    "    for j in range(2,i):\n",
    "        if (i % j == 0):\n",
    "            break\n",
    "    else:\n",
    "        print(i)"
   ]
  },
  {
   "cell_type": "code",
   "execution_count": 27,
   "metadata": {},
   "outputs": [
    {
     "name": "stdout",
     "output_type": "stream",
     "text": [
      "[6, 2, 3, 4, 5, 1]\n"
     ]
    }
   ],
   "source": [
    "def swapl(Nlist):\n",
    "    cal = len(Nlist)\n",
    "    \n",
    "    temp = Nlist[0]\n",
    "    Nlist[0] = Nlist[cal-1]\n",
    "    Nlist[cal-1] = temp\n",
    "    \n",
    "    return Nlist\n",
    "\n",
    "Nlist = [1,2,3,4,5,6]\n",
    "print(swapl(Nlist))\n"
   ]
  },
  {
   "cell_type": "code",
   "execution_count": 19,
   "metadata": {},
   "outputs": [
    {
     "name": "stdout",
     "output_type": "stream",
     "text": [
      "[1, 2, 3, 4, 5, 6]\n"
     ]
    }
   ],
   "source": [
    "def swap2(Nlist):\n",
    "    \n",
    "    Nlist[0], Nlist[-2] = Nlist[-2], Nlist[0]\n",
    "    return Nlist\n",
    "\n",
    "print(swap2(Nlist))\n"
   ]
  },
  {
   "cell_type": "code",
   "execution_count": 22,
   "metadata": {},
   "outputs": [
    {
     "name": "stdout",
     "output_type": "stream",
     "text": [
      "[1, 2, 4, 3, 5, 6]\n"
     ]
    }
   ],
   "source": [
    "def swap3(Nlist,pos1,pos2):\n",
    "    Nlist[pos1], Nlist[pos2] = Nlist[pos2],Nlist[pos1]\n",
    "    return Nlist\n",
    "pos1, pos2 = 3,4\n",
    "print(swap3(Nlist,pos1-1,pos2-1))"
   ]
  },
  {
   "cell_type": "code",
   "execution_count": 28,
   "metadata": {},
   "outputs": [
    {
     "name": "stdout",
     "output_type": "stream",
     "text": [
      "[6, 2, 3, 4, 5, 1]\n",
      "[]\n"
     ]
    }
   ],
   "source": [
    "temp = Nlist\n",
    "print(Nlist)\n",
    "temp.clear()\n",
    "\n",
    "print(temp)"
   ]
  },
  {
   "cell_type": "code",
   "execution_count": 31,
   "metadata": {},
   "outputs": [
    {
     "name": "stdout",
     "output_type": "stream",
     "text": [
      "[5, 4, 3, 2, 1]\n"
     ]
    }
   ],
   "source": [
    "def rev(lst):\n",
    "    lst.reverse()\n",
    "    return lst\n",
    "lst2 = [1,2,3,4,5]\n",
    "print(rev(lst2))"
   ]
  },
  {
   "cell_type": "code",
   "execution_count": 33,
   "metadata": {},
   "outputs": [
    {
     "name": "stdout",
     "output_type": "stream",
     "text": [
      "[9, 8, 7, 6, 5, 4]\n"
     ]
    }
   ],
   "source": [
    "def rev1(lst):\n",
    "    lst1 = lst[::-1]\n",
    "    return lst1\n",
    "lst3 = [4,5,6,7,8,9]\n",
    "print(rev1(lst3))"
   ]
  },
  {
   "cell_type": "code",
   "execution_count": 43,
   "metadata": {},
   "outputs": [
    {
     "name": "stdout",
     "output_type": "stream",
     "text": [
      "39\n"
     ]
    }
   ],
   "source": [
    "sum=0\n",
    "lst = [4,5,6,7,8,9]\n",
    "\n",
    "for i in range(0,len(lst)):\n",
    "    sum += lst[i]\n",
    "\n",
    "print(sum)\n",
    "        "
   ]
  },
  {
   "cell_type": "code",
   "execution_count": 45,
   "metadata": {},
   "outputs": [
    {
     "name": "stdout",
     "output_type": "stream",
     "text": [
      "39\n"
     ]
    }
   ],
   "source": [
    "def summ(lst,count):\n",
    "    if (count == 0):\n",
    "        return 0\n",
    "    else:\n",
    "        total = lst[count-1] + summ(lst,count-1)\n",
    "        return total\n",
    "lst3 = [4,5,6,7,8,9]\n",
    "print(summ(lst3,len(lst3)))"
   ]
  },
  {
   "cell_type": "code",
   "execution_count": 53,
   "metadata": {},
   "outputs": [
    {
     "name": "stdout",
     "output_type": "stream",
     "text": [
      "39\n"
     ]
    }
   ],
   "source": [
    "def add(lst):\n",
    "    total= 0\n",
    "    for i in lst:\n",
    "        total += i\n",
    "    return total\n",
    "lst3 = [4,5,6,7,8,9]\n",
    "print(add(lst3))"
   ]
  },
  {
   "cell_type": "code",
   "execution_count": 50,
   "metadata": {},
   "outputs": [
    {
     "name": "stdout",
     "output_type": "stream",
     "text": [
      "60480\n"
     ]
    }
   ],
   "source": [
    "\n",
    "def mul(lst):\n",
    "    total= 1\n",
    "    for i in lst:\n",
    "        total *= i\n",
    "    return total\n",
    "lst3 = [4,5,6,7,8,9]\n",
    "print(mul(lst3))"
   ]
  },
  {
   "cell_type": "code",
   "execution_count": 58,
   "metadata": {},
   "outputs": [
    {
     "name": "stdout",
     "output_type": "stream",
     "text": [
      "6\n"
     ]
    }
   ],
   "source": [
    "#import math(math.prod)\n",
    "import numpy\n",
    "def mul1(lst):\n",
    "    result = numpy.prod(lst)\n",
    "    return result\n",
    "lst = [1,2,3]\n",
    "print(mul1(lst))"
   ]
  },
  {
   "cell_type": "code",
   "execution_count": 60,
   "metadata": {},
   "outputs": [
    {
     "name": "stdout",
     "output_type": "stream",
     "text": [
      "smallest element 1 and largest element 5\n"
     ]
    }
   ],
   "source": [
    "def min_max(lst):\n",
    "    lst.sort()\n",
    "    print(\"smallest element {} and largest element {}\".format(lst[0],lst[-1]))\n",
    "    \n",
    "lst = [1,2,3,4,5]\n",
    "min_max(lst)"
   ]
  },
  {
   "cell_type": "code",
   "execution_count": 63,
   "metadata": {},
   "outputs": [
    {
     "name": "stdout",
     "output_type": "stream",
     "text": [
      "smallest element 1 and largest element 5\n"
     ]
    }
   ],
   "source": [
    "def min_max(lst):\n",
    "    print(\"smallest element {} and largest element {}\".format(min(lst),max(lst)))\n",
    "    \n",
    "lst = [1,2,3,4,5]\n",
    "min_max(lst)"
   ]
  },
  {
   "cell_type": "code",
   "execution_count": null,
   "metadata": {},
   "outputs": [],
   "source": [
    "def largetst_N(lst):\n",
    "    lst.sort()\n",
    "    N=input(\"enter size : \")\n",
    "    print(lst[-N])\n",
    "lst2 = [2,55,333,334,3]\n",
    "largest_N(lst2)"
   ]
  },
  {
   "cell_type": "code",
   "execution_count": null,
   "metadata": {},
   "outputs": [],
   "source": [
    "def largest_N(lst):\n",
    "    lst.sort()\n",
    "    n=input(\"enter size : \")\n",
    "\n",
    "    \n",
    "lst2 = [2,55,333,5,222]\n",
    "largest_N(lst2)"
   ]
  },
  {
   "cell_type": "code",
   "execution_count": 3,
   "metadata": {},
   "outputs": [
    {
     "name": "stdout",
     "output_type": "stream",
     "text": [
      "enter size : 3\n",
      "[55, 333, 334]\n"
     ]
    }
   ],
   "source": [
    "def largetst_N(lst):\n",
    "    lst.sort()\n",
    "    N=int(input(\"enter size : \"))\n",
    "    print(lst[-N:])\n",
    "lst2 = [2,55,333,334,3]\n",
    "largetst_N(lst2)"
   ]
  },
  {
   "cell_type": "code",
   "execution_count": 4,
   "metadata": {},
   "outputs": [
    {
     "name": "stdout",
     "output_type": "stream",
     "text": [
      "[33, 67]\n"
     ]
    }
   ],
   "source": [
    "lst = [21,33,22,67]\n",
    "lst.sort()\n",
    "n=2\n",
    "print(lst[-n:])"
   ]
  },
  {
   "cell_type": "code",
   "execution_count": 5,
   "metadata": {},
   "outputs": [
    {
     "name": "stdout",
     "output_type": "stream",
     "text": [
      "[1, 2, 3, 4] [1, 2, 3, 4]\n"
     ]
    }
   ],
   "source": [
    "def copy(lst1):\n",
    "    copied = lst1[:]\n",
    "    return copied\n",
    "lst1 = [1,2,3,4]\n",
    "lst2 = copy(lst1)\n",
    "print(lst1,lst2)\n",
    "#use .copy() method"
   ]
  },
  {
   "cell_type": "code",
   "execution_count": 15,
   "metadata": {},
   "outputs": [
    {
     "name": "stdout",
     "output_type": "stream",
     "text": [
      "[1, 2, 3, 4, 6]\n"
     ]
    }
   ],
   "source": [
    "def remove_repeated(lst):\n",
    "    lst1 = []\n",
    "    maxx = len(lst)\n",
    "    for i in range(0,maxx):\n",
    "        if lst[i] not in lst1:\n",
    "            lst1.append(lst[i])\n",
    "    return lst1\n",
    "lst2 = [1,2,3,4,1,2,3,4,1,1,6]\n",
    "print(remove_repeated(lst2))\n",
    "            "
   ]
  },
  {
   "cell_type": "code",
   "execution_count": 17,
   "metadata": {},
   "outputs": [
    {
     "name": "stdout",
     "output_type": "stream",
     "text": [
      "[10, 30, 60, 100, 150, 210]\n"
     ]
    }
   ],
   "source": [
    "lst = [10,20,30,40,50,60]\n",
    "lst1 = []\n",
    "j=0\n",
    "for i in range(0,len(lst)):\n",
    "    j += lst[i]\n",
    "    lst1.append(j)\n",
    "print(lst1)"
   ]
  },
  {
   "cell_type": "code",
   "execution_count": 19,
   "metadata": {},
   "outputs": [
    {
     "name": "stdout",
     "output_type": "stream",
     "text": [
      "The original list is : [1, 67, 98, 34]\n",
      "List Integer Summation : [1, 13, 17, 7]\n"
     ]
    }
   ],
   "source": [
    "\n",
    "test_list = [1, 67, 98, 34] \n",
    "\n",
    "\n",
    "print(\"The original list is : \" + str(test_list)) \n",
    "\n",
    "res = [] \n",
    "for ele in test_list: \n",
    "    sum = 0\n",
    "    for digit in str(ele): \n",
    "        sum += int(digit) \n",
    "    res.append(sum) \n",
    "\n",
    "\n",
    "print (\"List Integer Summation : \" + str(res)) \n"
   ]
  },
  {
   "cell_type": "code",
   "execution_count": 3,
   "metadata": {},
   "outputs": [
    {
     "name": "stdout",
     "output_type": "stream",
     "text": [
      "[['geeks', 'for', 'geeks', 'like', 'geeky'], ['nerdy', 'geek', 'love', 'questions', 'words'], ['life']]\n"
     ]
    }
   ],
   "source": [
    "my_list = ['geeks', 'for', 'geeks', 'like', \n",
    "           'geeky','nerdy', 'geek', 'love', \n",
    "               'questions','words', 'life'] \n",
    "\n",
    "def chunks(lst, n):\n",
    "    for i in range(0,len(lst),n):\n",
    "        yield lst[i:i+n]\n",
    "n = 5\n",
    "x = list(chunks(my_list,n))\n",
    "print(x)\n",
    "    \n",
    "    "
   ]
  },
  {
   "cell_type": "code",
   "execution_count": 4,
   "metadata": {},
   "outputs": [
    {
     "name": "stdout",
     "output_type": "stream",
     "text": [
      "['a', 'd', 'h', 'b', 'c', 'e', 'i', 'f', 'g']\n"
     ]
    }
   ],
   "source": [
    "def sort_list(list1, list2):\n",
    "    zipped_list = zip(list2,list1)\n",
    "    z = [x for _, x in sorted(zipped_list)]\n",
    "    return z\n",
    "    \n",
    "\n",
    "x = [\"a\", \"b\", \"c\", \"d\", \"e\", \"f\", \"g\", \"h\", \"i\"]\n",
    "y = [ 0,   1,   1,    0,   1,   2,   2,   0,   1]\n",
    " \n",
    "print(sort_list(x, y))"
   ]
  },
  {
   "cell_type": "code",
   "execution_count": null,
   "metadata": {},
   "outputs": [],
   "source": []
  }
 ],
 "metadata": {
  "kernelspec": {
   "display_name": "Python 3",
   "language": "python",
   "name": "python3"
  },
  "language_info": {
   "codemirror_mode": {
    "name": "ipython",
    "version": 3
   },
   "file_extension": ".py",
   "mimetype": "text/x-python",
   "name": "python",
   "nbconvert_exporter": "python",
   "pygments_lexer": "ipython3",
   "version": "3.7.3"
  }
 },
 "nbformat": 4,
 "nbformat_minor": 2
}
